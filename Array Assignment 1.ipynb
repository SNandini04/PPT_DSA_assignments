{
 "cells": [
  {
   "cell_type": "raw",
   "id": "71e23c02",
   "metadata": {},
   "source": [
    "Q1.Given an array of integers nums and an integer target, return indices of the two numbers such that they add up to target.\n",
    "\n",
    "You may assume that each input would have exactly one solution, and you may not use the same element twice.\n",
    "\n",
    "You can return the answer in any order.\n"
   ]
  },
  {
   "cell_type": "code",
   "execution_count": 82,
   "id": "0400fef0",
   "metadata": {},
   "outputs": [
    {
     "data": {
      "text/plain": [
       "[0, 1]"
      ]
     },
     "execution_count": 82,
     "metadata": {},
     "output_type": "execute_result"
    }
   ],
   "source": [
    "class TwoSum:\n",
    "    def twosum(nums,target):\n",
    "        sorted_nums = sorted(nums)\n",
    "        sorted_nums = list(enumerate(sorted_nums)) \n",
    "        left = 0\n",
    "        right = len(nums)-1\n",
    "\n",
    "        while left<right:\n",
    "            curr_sum = sorted_nums[left][1] + sorted_nums[right][1]\n",
    "            if curr_sum == target:\n",
    "                return [sorted_nums[left][0],sorted_nums[right][0]]\n",
    "            elif curr_sum < target:\n",
    "                left+=1\n",
    "            else: \n",
    "                right-=1\n",
    "        return []\n",
    "TwoSum.twosum([2,7,11,15],9)"
   ]
  },
  {
   "cell_type": "raw",
   "id": "42d7e72b",
   "metadata": {},
   "source": [
    "Q2. Given an integer array nums and an integer val, remove all occurrences of val in nums in-place. The order of the elements may be changed. Then return the number of elements in nums which are not equal to val.\n",
    "\n",
    "Consider the number of elements in nums which are not equal to val be k, to get accepted, you need to do the following things:\n",
    "\n",
    "- Change the array nums such that the first k elements of nums contain the elements which are not equal to val. The remaining elements of nums are not important as well as the size of nums.\n",
    "- Return k."
   ]
  },
  {
   "cell_type": "code",
   "execution_count": 81,
   "id": "397d2ffb",
   "metadata": {},
   "outputs": [
    {
     "data": {
      "text/plain": [
       "2"
      ]
     },
     "execution_count": 81,
     "metadata": {},
     "output_type": "execute_result"
    }
   ],
   "source": [
    "class Remove_value:\n",
    "    def remove_val(arr,val):\n",
    "        i = 0\n",
    "        for j in range(len(arr)):\n",
    "            if arr[j] != val:\n",
    "                arr[i]=arr[j]\n",
    "                i+=1\n",
    "        return i\n",
    "Remove_value.remove_val([3,2,2,3],3)"
   ]
  },
  {
   "cell_type": "raw",
   "id": "331bffb7",
   "metadata": {},
   "source": [
    "Q3 Given a sorted array of distinct integers and a target value, return the index if the target is found. If not, return the index where it would be if it were inserted in order.\n",
    "\n",
    "You must write an algorithm with O(log n) runtime complexity."
   ]
  },
  {
   "cell_type": "code",
   "execution_count": 80,
   "id": "113527c0",
   "metadata": {},
   "outputs": [
    {
     "data": {
      "text/plain": [
       "2"
      ]
     },
     "execution_count": 80,
     "metadata": {},
     "output_type": "execute_result"
    }
   ],
   "source": [
    "class Search_val:\n",
    "    def search_target(arr, target):\n",
    "        left = 0\n",
    "        right = len(arr) - 1\n",
    "\n",
    "        while left <= right:\n",
    "            mid = left + (right - left) // 2\n",
    "            if arr[mid] == target:\n",
    "                return mid\n",
    "            elif arr[mid] < target:\n",
    "                left = mid + 1\n",
    "            else:\n",
    "                right = mid - 1\n",
    "\n",
    "        return mid\n",
    "Search_val.search_target([1,3,5,6],5)"
   ]
  },
  {
   "cell_type": "raw",
   "id": "ba7ab5a1",
   "metadata": {},
   "source": [
    "Q4 You are given a large integer represented as an integer array digits, where each digits[i] is the ith digit of the integer. The digits are ordered from most significant to least significant in left-to-right order. The large integer does not contain any leading 0's.\n",
    "\n",
    "Increment the large integer by one and return the resulting array of digits."
   ]
  },
  {
   "cell_type": "code",
   "execution_count": 79,
   "id": "5af0d526",
   "metadata": {},
   "outputs": [
    {
     "data": {
      "text/plain": [
       "[1, 2, 4]"
      ]
     },
     "execution_count": 79,
     "metadata": {},
     "output_type": "execute_result"
    }
   ],
   "source": [
    "class PlusOne:\n",
    "    def AddOnetolast(digits):\n",
    "        n = len(digits)\n",
    "        for num in range(n - 1, -1, -1):\n",
    "            digits[num] += 1\n",
    "            if digits[num] < 10:\n",
    "                return digits\n",
    "            else:\n",
    "                digits[num] = 0\n",
    "        return [1]+digits\n",
    "PlusOne.AddOnetolast([1,2,3])"
   ]
  },
  {
   "cell_type": "raw",
   "id": "89f08511",
   "metadata": {},
   "source": [
    "Q5.You are given two integer arrays nums1 and nums2, sorted in non-decreasing order, and two integers m and n, representing the number of elements in nums1 and nums2 respectively.\n",
    "\n",
    "Merge nums1 and nums2 into a single array sorted in non-decreasing order.\n",
    "\n",
    "The final sorted array should not be returned by the function, but instead be stored inside the array nums1. To accommodate this, nums1 has a length of m + n, where the first m elements denote the elements that should be merged, and the last n elements are set to 0 and should be ignored. nums2 has a length of n."
   ]
  },
  {
   "cell_type": "code",
   "execution_count": 83,
   "id": "672437ea",
   "metadata": {},
   "outputs": [
    {
     "data": {
      "text/plain": [
       "[1, 2, 2, 3, 5, 6]"
      ]
     },
     "execution_count": 83,
     "metadata": {},
     "output_type": "execute_result"
    }
   ],
   "source": [
    "class Merge_Solution:\n",
    "    def merge(nums, m, nums1, n):\n",
    "        p1 = m - 1\n",
    "        p2 = n - 1\n",
    "        p = m + n - 1\n",
    "\n",
    "        while p1 >= 0 and p2 >= 0:\n",
    "            if nums[p1] > nums1[p2]:\n",
    "                nums[p] = nums[p1]\n",
    "                p1 -= 1\n",
    "            else:\n",
    "                nums[p] = nums1[p2]\n",
    "                p2 -= 1\n",
    "            p -= 1\n",
    "        while p2 >= 0:\n",
    "            nums[p] = nums1[p2]\n",
    "            p2 -= 1\n",
    "            p -= 1\n",
    "        return nums\n",
    "Merge_Solution.merge([1,2,3,0,0,0],3,[2,5,6],3)"
   ]
  },
  {
   "cell_type": "raw",
   "id": "b96a2509",
   "metadata": {},
   "source": [
    "Q6. Given an integer array nums, return true if any value appears at least twice in the array, and return false if every element is distinct."
   ]
  },
  {
   "cell_type": "code",
   "execution_count": 84,
   "id": "fd713b12",
   "metadata": {},
   "outputs": [
    {
     "data": {
      "text/plain": [
       "True"
      ]
     },
     "execution_count": 84,
     "metadata": {},
     "output_type": "execute_result"
    }
   ],
   "source": [
    "class Duplicates:\n",
    "    def containsDuplicate(nums):\n",
    "        unique = set()\n",
    "        for num in nums:\n",
    "            if num in unique:\n",
    "                return True\n",
    "            unique.add(num)\n",
    "        return False\n",
    "Duplicates.containsDuplicate([1, 2, 3, 1])"
   ]
  },
  {
   "cell_type": "raw",
   "id": "cd019f74",
   "metadata": {},
   "source": [
    "Q7.Given an integer array nums, move all 0's to the end of it while maintaining the relative order of the nonzero elements.\n",
    "\n",
    "Note that you must do this in-place without making a copy of the array.\n"
   ]
  },
  {
   "cell_type": "code",
   "execution_count": 87,
   "id": "2b56ad33",
   "metadata": {},
   "outputs": [
    {
     "data": {
      "text/plain": [
       "[1, 3, 12, 0, 0]"
      ]
     },
     "execution_count": 87,
     "metadata": {},
     "output_type": "execute_result"
    }
   ],
   "source": [
    "class MoveInt:\n",
    "    def moveZeroes(nums):\n",
    "        left = 0\n",
    "        for right in range(len(nums)):\n",
    "            if nums[right] != 0:\n",
    "                nums[left], nums[right] = nums[right], nums[left]\n",
    "                left += 1\n",
    "        return nums\n",
    "MoveInt.moveZeroes([0,1,0,3,12])"
   ]
  },
  {
   "cell_type": "raw",
   "id": "2818bcea",
   "metadata": {},
   "source": [
    "Q-8 You have a set of integers s, which originally contains all the numbers from 1 to n. Unfortunately, due to some error, one of the numbers in s got duplicated to another number in the set, which results in repetition of one number and loss of another number.\n",
    "\n",
    "You are given an integer array nums representing the data status of this set after the error.\n",
    "\n",
    "Find the number that occurs twice and the number that is missing and return them in the form of an array."
   ]
  },
  {
   "cell_type": "code",
   "execution_count": 88,
   "id": "caa7ec4c",
   "metadata": {},
   "outputs": [
    {
     "data": {
      "text/plain": [
       "[2, 3]"
      ]
     },
     "execution_count": 88,
     "metadata": {},
     "output_type": "execute_result"
    }
   ],
   "source": [
    "class ErrorNum:\n",
    "    def findErrorNums(nums):\n",
    "        n = len(nums)\n",
    "        nums_set = set(nums)\n",
    "        missing_num = sum(range(1, n + 1)) - sum(nums_set)\n",
    "        duplicate_num = sum(nums) - sum(nums_set)\n",
    "        return [duplicate_num, missing_num]\n",
    "ErrorNum.findErrorNums([1,2,2,4])"
   ]
  }
 ],
 "metadata": {
  "kernelspec": {
   "display_name": "Python 3 (ipykernel)",
   "language": "python",
   "name": "python3"
  },
  "language_info": {
   "codemirror_mode": {
    "name": "ipython",
    "version": 3
   },
   "file_extension": ".py",
   "mimetype": "text/x-python",
   "name": "python",
   "nbconvert_exporter": "python",
   "pygments_lexer": "ipython3",
   "version": "3.9.16"
  }
 },
 "nbformat": 4,
 "nbformat_minor": 5
}
